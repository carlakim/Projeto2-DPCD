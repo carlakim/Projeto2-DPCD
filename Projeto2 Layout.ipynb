{
 "cells": [
  {
   "cell_type": "markdown",
   "metadata": {},
   "source": [
    "___\n",
    "# Ciência dos Dados - PROJETO 2"
   ]
  },
  {
   "cell_type": "markdown",
   "metadata": {},
   "source": [
    "___\n",
    "## Nome 1\n",
    "\n",
    "## Nome 2\n",
    "\n",
    "___"
   ]
  },
  {
   "cell_type": "markdown",
   "metadata": {},
   "source": [
    "___\n",
    "\n",
    "## 1. Problema\n",
    "\n",
    "O Classificador Naive-Bayes, o qual se baseia no uso do teorema de Bayes, é largamente utilizado em filtros anti-spam de e-mails. O classificador permite calcular qual a probabilidade de uma mensagem ser SPAM considerando as palavras em seu conteúdo e, de forma complementar, permite calcular a probabilidade de uma mensagem ser HAM dada as palavras descritas na mensagem.\n",
    "\n",
    "Para realizar o MVP (minimum viable product) do projeto, você precisa programar uma versão do classificador que \"aprende\" o que é uma mensagem SPAM considerando uma base de treinamento e comparar o desempenho dos resultados com uma base de testes. \n"
   ]
  },
  {
   "cell_type": "markdown",
   "metadata": {},
   "source": [
    "___\n",
    "## 2. Separação da base de dados em Treinamento e Teste\n",
    "\n",
    "A base de dados deve ser separada em duas partes, aleatoriamente, considerando: \n",
    "    \n",
    "    75% dos dados para a parte Treinamento; e\n",
    "    25% dos dados para a parte Teste."
   ]
  },
  {
   "cell_type": "code",
   "execution_count": 1,
   "metadata": {},
   "outputs": [],
   "source": [
    "#import pandas as pd\n",
    "import os\n",
    "import math\n",
    "import json\n",
    "from random import shuffle\n",
    "from sklearn.model_selection import train_test_split"
   ]
  },
  {
   "cell_type": "code",
   "execution_count": 2,
   "metadata": {},
   "outputs": [],
   "source": [
    "import pandas as pd"
   ]
  },
  {
   "cell_type": "code",
   "execution_count": 3,
   "metadata": {},
   "outputs": [
    {
     "name": "stdout",
     "output_type": "stream",
     "text": [
      "Esperamos trabalhar no diretório\n",
      "C:\\Users\\Elcio\\Desktop\\FACULDADE\\3° SEMESTRE\\DP CIENCIA DOS DADOS\\PROJETO 2\n"
     ]
    }
   ],
   "source": [
    "print('Esperamos trabalhar no diretório')\n",
    "print(os.getcwd())"
   ]
  },
  {
   "cell_type": "code",
   "execution_count": 4,
   "metadata": {
    "collapsed": true
   },
   "outputs": [],
   "source": [
    "#importando o arquivo\n",
    "xlsx = pd.read_excel('spamham.xlsx',sep=',')"
   ]
  },
  {
   "cell_type": "code",
   "execution_count": 8,
   "metadata": {
    "collapsed": true
   },
   "outputs": [],
   "source": [
    "#separando aleatoriamente 25% em teste e 75% em treinamento\n",
    "train, test = train_test_split(xlsx, test_size = 0.25)"
   ]
  },
  {
   "cell_type": "markdown",
   "metadata": {},
   "source": [
    "___\n",
    "## 3. Classificador Naive-Bayes"
   ]
  },
  {
   "cell_type": "code",
   "execution_count": 9,
   "metadata": {
    "collapsed": true
   },
   "outputs": [],
   "source": [
    "def clean(email):\n",
    "    email_final = email.replace(\".\",\" \").replace(\",\",\" \").replace(\"-\",\" \")\\\n",
    "    .replace(\":\",\" \").replace(\";\",\" \").replace(\"…\",\" \").replace(\"+\",\" \").replace('(',\" \").replace(\"'\",\" \").replace('\"',\" \")\\\n",
    "    .replace(')',\" \").replace(\"@\",\" \").replace(\"#\",\" \").replace('  ',' ')\n",
    "    return frase_final"
   ]
  },
  {
   "cell_type": "code",
   "execution_count": 12,
   "metadata": {},
   "outputs": [
    {
     "data": {
      "text/html": [
       "<div>\n",
       "<style>\n",
       "    .dataframe thead tr:only-child th {\n",
       "        text-align: right;\n",
       "    }\n",
       "\n",
       "    .dataframe thead th {\n",
       "        text-align: left;\n",
       "    }\n",
       "\n",
       "    .dataframe tbody tr th {\n",
       "        vertical-align: top;\n",
       "    }\n",
       "</style>\n",
       "<table border=\"1\" class=\"dataframe\">\n",
       "  <thead>\n",
       "    <tr style=\"text-align: right;\">\n",
       "      <th></th>\n",
       "      <th>Email</th>\n",
       "      <th>Class</th>\n",
       "    </tr>\n",
       "  </thead>\n",
       "  <tbody>\n",
       "    <tr>\n",
       "      <th>4256</th>\n",
       "      <td>Block Breaker now comes in deluxe format with ...</td>\n",
       "      <td>spam</td>\n",
       "    </tr>\n",
       "    <tr>\n",
       "      <th>5055</th>\n",
       "      <td>Double Mins &amp; Double Txt &amp; 1/2 price Linerenta...</td>\n",
       "      <td>spam</td>\n",
       "    </tr>\n",
       "    <tr>\n",
       "      <th>1269</th>\n",
       "      <td>Can U get 2 phone NOW? I wanna chat 2 set up m...</td>\n",
       "      <td>spam</td>\n",
       "    </tr>\n",
       "    <tr>\n",
       "      <th>120</th>\n",
       "      <td>PRIVATE! Your 2004 Account Statement for 07742...</td>\n",
       "      <td>spam</td>\n",
       "    </tr>\n",
       "    <tr>\n",
       "      <th>1544</th>\n",
       "      <td>Hello from Orange. For 1 month's free access t...</td>\n",
       "      <td>spam</td>\n",
       "    </tr>\n",
       "    <tr>\n",
       "      <th>2879</th>\n",
       "      <td>Hey Boys. Want hot XXX pics sent direct 2 ur p...</td>\n",
       "      <td>spam</td>\n",
       "    </tr>\n",
       "    <tr>\n",
       "      <th>4797</th>\n",
       "      <td>URGENT This is our 2nd attempt to contact U. Y...</td>\n",
       "      <td>spam</td>\n",
       "    </tr>\n",
       "    <tr>\n",
       "      <th>4407</th>\n",
       "      <td>As one of our registered subscribers u can ent...</td>\n",
       "      <td>spam</td>\n",
       "    </tr>\n",
       "    <tr>\n",
       "      <th>1830</th>\n",
       "      <td>Hottest pics straight to your phone!! See me g...</td>\n",
       "      <td>spam</td>\n",
       "    </tr>\n",
       "    <tr>\n",
       "      <th>225</th>\n",
       "      <td>500 New Mobiles from 2004, MUST GO! Txt: NOKIA...</td>\n",
       "      <td>spam</td>\n",
       "    </tr>\n",
       "  </tbody>\n",
       "</table>\n",
       "</div>"
      ],
      "text/plain": [
       "                                                  Email Class\n",
       "4256  Block Breaker now comes in deluxe format with ...  spam\n",
       "5055  Double Mins & Double Txt & 1/2 price Linerenta...  spam\n",
       "1269  Can U get 2 phone NOW? I wanna chat 2 set up m...  spam\n",
       "120   PRIVATE! Your 2004 Account Statement for 07742...  spam\n",
       "1544  Hello from Orange. For 1 month's free access t...  spam\n",
       "2879  Hey Boys. Want hot XXX pics sent direct 2 ur p...  spam\n",
       "4797  URGENT This is our 2nd attempt to contact U. Y...  spam\n",
       "4407  As one of our registered subscribers u can ent...  spam\n",
       "1830  Hottest pics straight to your phone!! See me g...  spam\n",
       "225   500 New Mobiles from 2004, MUST GO! Txt: NOKIA...  spam"
      ]
     },
     "execution_count": 12,
     "metadata": {},
     "output_type": "execute_result"
    }
   ],
   "source": [
    "#criando dataframe de spams\n",
    "trainspam = train.loc[train.Class == 'spam']\n",
    "trainspam.head(10)"
   ]
  },
  {
   "cell_type": "code",
   "execution_count": 15,
   "metadata": {
    "scrolled": true
   },
   "outputs": [
    {
     "data": {
      "text/html": [
       "<div>\n",
       "<style>\n",
       "    .dataframe thead tr:only-child th {\n",
       "        text-align: right;\n",
       "    }\n",
       "\n",
       "    .dataframe thead th {\n",
       "        text-align: left;\n",
       "    }\n",
       "\n",
       "    .dataframe tbody tr th {\n",
       "        vertical-align: top;\n",
       "    }\n",
       "</style>\n",
       "<table border=\"1\" class=\"dataframe\">\n",
       "  <thead>\n",
       "    <tr style=\"text-align: right;\">\n",
       "      <th></th>\n",
       "      <th>Email</th>\n",
       "      <th>Class</th>\n",
       "    </tr>\n",
       "  </thead>\n",
       "  <tbody>\n",
       "    <tr>\n",
       "      <th>96</th>\n",
       "      <td>Watching telugu movie..wat abt u?</td>\n",
       "      <td>ham</td>\n",
       "    </tr>\n",
       "    <tr>\n",
       "      <th>280</th>\n",
       "      <td>All done? All handed in? Celebrations in full ...</td>\n",
       "      <td>ham</td>\n",
       "    </tr>\n",
       "    <tr>\n",
       "      <th>3569</th>\n",
       "      <td>Sent me de webadres for geting salary slip</td>\n",
       "      <td>ham</td>\n",
       "    </tr>\n",
       "    <tr>\n",
       "      <th>254</th>\n",
       "      <td>Ups which is 3days also, and the shipping comp...</td>\n",
       "      <td>ham</td>\n",
       "    </tr>\n",
       "    <tr>\n",
       "      <th>2927</th>\n",
       "      <td>Im done. Just studyn in library</td>\n",
       "      <td>ham</td>\n",
       "    </tr>\n",
       "    <tr>\n",
       "      <th>3941</th>\n",
       "      <td>Does daddy have a bb now.</td>\n",
       "      <td>ham</td>\n",
       "    </tr>\n",
       "    <tr>\n",
       "      <th>3074</th>\n",
       "      <td>Somebody should go to andros and steal ice</td>\n",
       "      <td>ham</td>\n",
       "    </tr>\n",
       "    <tr>\n",
       "      <th>2752</th>\n",
       "      <td>Play w computer? Aiyah i tok 2 u lor?</td>\n",
       "      <td>ham</td>\n",
       "    </tr>\n",
       "    <tr>\n",
       "      <th>5406</th>\n",
       "      <td>Pls give her prometazine syrup. 5mls then  &amp;lt...</td>\n",
       "      <td>ham</td>\n",
       "    </tr>\n",
       "    <tr>\n",
       "      <th>1155</th>\n",
       "      <td>Did u find a sitter for kaitlyn? I was sick an...</td>\n",
       "      <td>ham</td>\n",
       "    </tr>\n",
       "  </tbody>\n",
       "</table>\n",
       "</div>"
      ],
      "text/plain": [
       "                                                  Email Class\n",
       "96                    Watching telugu movie..wat abt u?   ham\n",
       "280   All done? All handed in? Celebrations in full ...   ham\n",
       "3569         Sent me de webadres for geting salary slip   ham\n",
       "254   Ups which is 3days also, and the shipping comp...   ham\n",
       "2927                    Im done. Just studyn in library   ham\n",
       "3941                          Does daddy have a bb now.   ham\n",
       "3074         Somebody should go to andros and steal ice   ham\n",
       "2752              Play w computer? Aiyah i tok 2 u lor?   ham\n",
       "5406  Pls give her prometazine syrup. 5mls then  &lt...   ham\n",
       "1155  Did u find a sitter for kaitlyn? I was sick an...   ham"
      ]
     },
     "execution_count": 15,
     "metadata": {},
     "output_type": "execute_result"
    }
   ],
   "source": [
    "#criando dataframe de hams\n",
    "trainham = train.loc[train.Class == 'ham']\n",
    "trainham.head(10)"
   ]
  },
  {
   "cell_type": "code",
   "execution_count": 19,
   "metadata": {},
   "outputs": [
    {
     "ename": "KeyError",
     "evalue": "\"None of [4256    Block Breaker now comes in deluxe format with ...\\n5055    Double Mins & Double Txt & 1/2 price Linerenta...\\n1269    Can U get 2 phone NOW? I wanna chat 2 set up m...\\n120     PRIVATE! Your 2004 Account Statement for 07742...\\n1544    Hello from Orange. For 1 month's free access t...\\n2879    Hey Boys. Want hot XXX pics sent direct 2 ur p...\\n4797    URGENT This is our 2nd attempt to contact U. Y...\\n4407    As one of our registered subscribers u can ent...\\n1830    Hottest pics straight to your phone!! See me g...\\n225     500 New Mobiles from 2004, MUST GO! Txt: NOKIA...\\n2309    Moby Pub Quiz.Win a å£100 High Street prize if...\\n296     T-Mobile customer you may now claim your FREE ...\\n2730    Urgent! Please call 09066612661 from your land...\\n5252    Urgent! Please call 09061213237 from a landlin...\\n2871    YOUR CHANCE TO BE ON A REALITY FANTASY SHOW ca...\\n4473      3. You have received your mobile content. Enjoy\\n630     Todays Vodafone numbers ending with 4882 are s...\\n1007    Panasonic & BluetoothHdset FREE. Nokia FREE. M...\\n5149    Get your garden ready for summer with a FREE s...\\n1848    FREE NOKIA Or Motorola with upto 12mths 1/2pri...\\n784     You have an important customer service announc...\\n1097    Dear Subscriber ur draw 4 å£100 gift voucher w...\\n121     URGENT! Your Mobile No. was awarded å£2000 Bon...\\n1350    FREE2DAY sexy St George's Day pic of Jordan!Tx...\\n3334    You are being contacted by our dating service ...\\n1961    Guess what! Somebody you know secretly fancies...\\n3758    YES! The only place in town to meet exciting a...\\n1196    You have 1 new voicemail. Please call 08719181503\\n4949    Hi this is Amy, we will be sending you a free ...\\n4500    SMS SERVICES. for your inclusive text credits,...\\n                              ...                        \\n1073    Dear U've been invited to XCHAT. This is our f...\\n4295    Kit Strip - you have been billed 150p. Netcoll...\\n1970    You have won a guaranteed å£200 award or even ...\\n3222    Thanks for your ringtone order, reference numb...\\n5191    ree entry in 2 a weekly comp for a chance to w...\\n3639    Customer service announcement. We recently tri...\\n54      SMS. ac Sptv: The New Jersey Devils and the De...\\n4144    In The Simpsons Movie released in July 2007 na...\\n2145    FreeMsg: Hey - I'm Buffy. 25 and love to satis...\\n4701    WIN: We have a winner! Mr. T. Foley won an iPo...\\n3819    74355 XMAS iscoming & ur awarded either å£500 ...\\n1765    Hi 07734396839 IBH Customer Loyalty Offer: The...\\n3463    Bloomberg -Message center +447797706009 Why wa...\\n5528    PRIVATE! Your 2003 Account Statement for shows...\\n1217    You have 1 new voicemail. Please call 08719181...\\n3155    Not heard from U4 a while. Call 4 rude chat pr...\\n2590    Join the UK's horniest Dogging service and u c...\\n3709    Free Top ringtone -sub to weekly ringtone-get ...\\n3913    You have an important customer service announc...\\n2079                       85233 FREE>Ringtone!Reply REAL\\n2053    Call 09094100151 to use ur mins! Calls cast 10...\\n5122         PRIVATE! Your 2003 Account Statement for 078\\n4196    Double mins and txts 4 6months FREE Bluetooth ...\\n3425    Am new 2 club & dont fink we met yet Will B gr...\\n1778    Buy Space Invaders 4 a chance 2 win orig Arcad...\\n367     Update_Now - Xmas Offer! Latest Motorola, Sony...\\n463     UpgrdCentre Orange customer, you may now claim...\\n401     FREE RINGTONE text FIRST to 87131 for a poly o...\\n4149    Please call Amanda with regard to renewing or ...\\n1915    New TEXTBUDDY Chat 2 horny guys in ur area 4 j...\\nName: Email, Length: 581, dtype: object] are in the [index]\"",
     "output_type": "error",
     "traceback": [
      "\u001b[1;31m---------------------------------------------------------------------------\u001b[0m",
      "\u001b[1;31mKeyError\u001b[0m                                  Traceback (most recent call last)",
      "\u001b[1;32m<ipython-input-19-7e61c9740470>\u001b[0m in \u001b[0;36m<module>\u001b[1;34m()\u001b[0m\n\u001b[1;32m----> 1\u001b[1;33m \u001b[1;32mfor\u001b[0m \u001b[0mi\u001b[0m \u001b[1;32min\u001b[0m \u001b[0mtrainspam\u001b[0m\u001b[1;33m.\u001b[0m\u001b[0mloc\u001b[0m\u001b[1;33m[\u001b[0m\u001b[0mtrainspam\u001b[0m\u001b[1;33m.\u001b[0m\u001b[0mEmail\u001b[0m\u001b[1;33m]\u001b[0m\u001b[1;33m:\u001b[0m\u001b[1;33m\u001b[0m\u001b[0m\n\u001b[0m\u001b[0;32m      2\u001b[0m     \u001b[0mprint\u001b[0m\u001b[1;33m(\u001b[0m\u001b[0mi\u001b[0m\u001b[1;33m[\u001b[0m\u001b[1;36m1\u001b[0m\u001b[1;33m]\u001b[0m\u001b[1;33m)\u001b[0m\u001b[1;33m\u001b[0m\u001b[0m\n",
      "\u001b[1;32mC:\\ProgramData\\Anaconda3\\lib\\site-packages\\pandas\\core\\indexing.py\u001b[0m in \u001b[0;36m__getitem__\u001b[1;34m(self, key)\u001b[0m\n\u001b[0;32m   1326\u001b[0m         \u001b[1;32melse\u001b[0m\u001b[1;33m:\u001b[0m\u001b[1;33m\u001b[0m\u001b[0m\n\u001b[0;32m   1327\u001b[0m             \u001b[0mkey\u001b[0m \u001b[1;33m=\u001b[0m \u001b[0mcom\u001b[0m\u001b[1;33m.\u001b[0m\u001b[0m_apply_if_callable\u001b[0m\u001b[1;33m(\u001b[0m\u001b[0mkey\u001b[0m\u001b[1;33m,\u001b[0m \u001b[0mself\u001b[0m\u001b[1;33m.\u001b[0m\u001b[0mobj\u001b[0m\u001b[1;33m)\u001b[0m\u001b[1;33m\u001b[0m\u001b[0m\n\u001b[1;32m-> 1328\u001b[1;33m             \u001b[1;32mreturn\u001b[0m \u001b[0mself\u001b[0m\u001b[1;33m.\u001b[0m\u001b[0m_getitem_axis\u001b[0m\u001b[1;33m(\u001b[0m\u001b[0mkey\u001b[0m\u001b[1;33m,\u001b[0m \u001b[0maxis\u001b[0m\u001b[1;33m=\u001b[0m\u001b[1;36m0\u001b[0m\u001b[1;33m)\u001b[0m\u001b[1;33m\u001b[0m\u001b[0m\n\u001b[0m\u001b[0;32m   1329\u001b[0m \u001b[1;33m\u001b[0m\u001b[0m\n\u001b[0;32m   1330\u001b[0m     \u001b[1;32mdef\u001b[0m \u001b[0m_is_scalar_access\u001b[0m\u001b[1;33m(\u001b[0m\u001b[0mself\u001b[0m\u001b[1;33m,\u001b[0m \u001b[0mkey\u001b[0m\u001b[1;33m)\u001b[0m\u001b[1;33m:\u001b[0m\u001b[1;33m\u001b[0m\u001b[0m\n",
      "\u001b[1;32mC:\\ProgramData\\Anaconda3\\lib\\site-packages\\pandas\\core\\indexing.py\u001b[0m in \u001b[0;36m_getitem_axis\u001b[1;34m(self, key, axis)\u001b[0m\n\u001b[0;32m   1539\u001b[0m                     \u001b[1;32mraise\u001b[0m \u001b[0mValueError\u001b[0m\u001b[1;33m(\u001b[0m\u001b[1;34m'Cannot index with multidimensional key'\u001b[0m\u001b[1;33m)\u001b[0m\u001b[1;33m\u001b[0m\u001b[0m\n\u001b[0;32m   1540\u001b[0m \u001b[1;33m\u001b[0m\u001b[0m\n\u001b[1;32m-> 1541\u001b[1;33m                 \u001b[1;32mreturn\u001b[0m \u001b[0mself\u001b[0m\u001b[1;33m.\u001b[0m\u001b[0m_getitem_iterable\u001b[0m\u001b[1;33m(\u001b[0m\u001b[0mkey\u001b[0m\u001b[1;33m,\u001b[0m \u001b[0maxis\u001b[0m\u001b[1;33m=\u001b[0m\u001b[0maxis\u001b[0m\u001b[1;33m)\u001b[0m\u001b[1;33m\u001b[0m\u001b[0m\n\u001b[0m\u001b[0;32m   1542\u001b[0m \u001b[1;33m\u001b[0m\u001b[0m\n\u001b[0;32m   1543\u001b[0m             \u001b[1;31m# nested tuple slicing\u001b[0m\u001b[1;33m\u001b[0m\u001b[1;33m\u001b[0m\u001b[0m\n",
      "\u001b[1;32mC:\\ProgramData\\Anaconda3\\lib\\site-packages\\pandas\\core\\indexing.py\u001b[0m in \u001b[0;36m_getitem_iterable\u001b[1;34m(self, key, axis)\u001b[0m\n\u001b[0;32m   1079\u001b[0m     \u001b[1;32mdef\u001b[0m \u001b[0m_getitem_iterable\u001b[0m\u001b[1;33m(\u001b[0m\u001b[0mself\u001b[0m\u001b[1;33m,\u001b[0m \u001b[0mkey\u001b[0m\u001b[1;33m,\u001b[0m \u001b[0maxis\u001b[0m\u001b[1;33m=\u001b[0m\u001b[1;36m0\u001b[0m\u001b[1;33m)\u001b[0m\u001b[1;33m:\u001b[0m\u001b[1;33m\u001b[0m\u001b[0m\n\u001b[0;32m   1080\u001b[0m         \u001b[1;32mif\u001b[0m \u001b[0mself\u001b[0m\u001b[1;33m.\u001b[0m\u001b[0m_should_validate_iterable\u001b[0m\u001b[1;33m(\u001b[0m\u001b[0maxis\u001b[0m\u001b[1;33m)\u001b[0m\u001b[1;33m:\u001b[0m\u001b[1;33m\u001b[0m\u001b[0m\n\u001b[1;32m-> 1081\u001b[1;33m             \u001b[0mself\u001b[0m\u001b[1;33m.\u001b[0m\u001b[0m_has_valid_type\u001b[0m\u001b[1;33m(\u001b[0m\u001b[0mkey\u001b[0m\u001b[1;33m,\u001b[0m \u001b[0maxis\u001b[0m\u001b[1;33m)\u001b[0m\u001b[1;33m\u001b[0m\u001b[0m\n\u001b[0m\u001b[0;32m   1082\u001b[0m \u001b[1;33m\u001b[0m\u001b[0m\n\u001b[0;32m   1083\u001b[0m         \u001b[0mlabels\u001b[0m \u001b[1;33m=\u001b[0m \u001b[0mself\u001b[0m\u001b[1;33m.\u001b[0m\u001b[0mobj\u001b[0m\u001b[1;33m.\u001b[0m\u001b[0m_get_axis\u001b[0m\u001b[1;33m(\u001b[0m\u001b[0maxis\u001b[0m\u001b[1;33m)\u001b[0m\u001b[1;33m\u001b[0m\u001b[0m\n",
      "\u001b[1;32mC:\\ProgramData\\Anaconda3\\lib\\site-packages\\pandas\\core\\indexing.py\u001b[0m in \u001b[0;36m_has_valid_type\u001b[1;34m(self, key, axis)\u001b[0m\n\u001b[0;32m   1416\u001b[0m \u001b[1;33m\u001b[0m\u001b[0m\n\u001b[0;32m   1417\u001b[0m                 raise KeyError(\"None of [%s] are in the [%s]\" %\n\u001b[1;32m-> 1418\u001b[1;33m                                (key, self.obj._get_axis_name(axis)))\n\u001b[0m\u001b[0;32m   1419\u001b[0m \u001b[1;33m\u001b[0m\u001b[0m\n\u001b[0;32m   1420\u001b[0m             \u001b[1;32mreturn\u001b[0m \u001b[1;32mTrue\u001b[0m\u001b[1;33m\u001b[0m\u001b[0m\n",
      "\u001b[1;31mKeyError\u001b[0m: \"None of [4256    Block Breaker now comes in deluxe format with ...\\n5055    Double Mins & Double Txt & 1/2 price Linerenta...\\n1269    Can U get 2 phone NOW? I wanna chat 2 set up m...\\n120     PRIVATE! Your 2004 Account Statement for 07742...\\n1544    Hello from Orange. For 1 month's free access t...\\n2879    Hey Boys. Want hot XXX pics sent direct 2 ur p...\\n4797    URGENT This is our 2nd attempt to contact U. Y...\\n4407    As one of our registered subscribers u can ent...\\n1830    Hottest pics straight to your phone!! See me g...\\n225     500 New Mobiles from 2004, MUST GO! Txt: NOKIA...\\n2309    Moby Pub Quiz.Win a å£100 High Street prize if...\\n296     T-Mobile customer you may now claim your FREE ...\\n2730    Urgent! Please call 09066612661 from your land...\\n5252    Urgent! Please call 09061213237 from a landlin...\\n2871    YOUR CHANCE TO BE ON A REALITY FANTASY SHOW ca...\\n4473      3. You have received your mobile content. Enjoy\\n630     Todays Vodafone numbers ending with 4882 are s...\\n1007    Panasonic & BluetoothHdset FREE. Nokia FREE. M...\\n5149    Get your garden ready for summer with a FREE s...\\n1848    FREE NOKIA Or Motorola with upto 12mths 1/2pri...\\n784     You have an important customer service announc...\\n1097    Dear Subscriber ur draw 4 å£100 gift voucher w...\\n121     URGENT! Your Mobile No. was awarded å£2000 Bon...\\n1350    FREE2DAY sexy St George's Day pic of Jordan!Tx...\\n3334    You are being contacted by our dating service ...\\n1961    Guess what! Somebody you know secretly fancies...\\n3758    YES! The only place in town to meet exciting a...\\n1196    You have 1 new voicemail. Please call 08719181503\\n4949    Hi this is Amy, we will be sending you a free ...\\n4500    SMS SERVICES. for your inclusive text credits,...\\n                              ...                        \\n1073    Dear U've been invited to XCHAT. This is our f...\\n4295    Kit Strip - you have been billed 150p. Netcoll...\\n1970    You have won a guaranteed å£200 award or even ...\\n3222    Thanks for your ringtone order, reference numb...\\n5191    ree entry in 2 a weekly comp for a chance to w...\\n3639    Customer service announcement. We recently tri...\\n54      SMS. ac Sptv: The New Jersey Devils and the De...\\n4144    In The Simpsons Movie released in July 2007 na...\\n2145    FreeMsg: Hey - I'm Buffy. 25 and love to satis...\\n4701    WIN: We have a winner! Mr. T. Foley won an iPo...\\n3819    74355 XMAS iscoming & ur awarded either å£500 ...\\n1765    Hi 07734396839 IBH Customer Loyalty Offer: The...\\n3463    Bloomberg -Message center +447797706009 Why wa...\\n5528    PRIVATE! Your 2003 Account Statement for shows...\\n1217    You have 1 new voicemail. Please call 08719181...\\n3155    Not heard from U4 a while. Call 4 rude chat pr...\\n2590    Join the UK's horniest Dogging service and u c...\\n3709    Free Top ringtone -sub to weekly ringtone-get ...\\n3913    You have an important customer service announc...\\n2079                       85233 FREE>Ringtone!Reply REAL\\n2053    Call 09094100151 to use ur mins! Calls cast 10...\\n5122         PRIVATE! Your 2003 Account Statement for 078\\n4196    Double mins and txts 4 6months FREE Bluetooth ...\\n3425    Am new 2 club & dont fink we met yet Will B gr...\\n1778    Buy Space Invaders 4 a chance 2 win orig Arcad...\\n367     Update_Now - Xmas Offer! Latest Motorola, Sony...\\n463     UpgrdCentre Orange customer, you may now claim...\\n401     FREE RINGTONE text FIRST to 87131 for a poly o...\\n4149    Please call Amanda with regard to renewing or ...\\n1915    New TEXTBUDDY Chat 2 horny guys in ur area 4 j...\\nName: Email, Length: 581, dtype: object] are in the [index]\""
     ]
    }
   ],
   "source": [
    "for i in trainspam.loc[trainspam.Email]:\n",
    "    print(i[1])"
   ]
  },
  {
   "cell_type": "markdown",
   "metadata": {},
   "source": [
    "___\n",
    "## 4. Curva ROC"
   ]
  },
  {
   "cell_type": "code",
   "execution_count": null,
   "metadata": {
    "collapsed": true
   },
   "outputs": [],
   "source": []
  },
  {
   "cell_type": "code",
   "execution_count": null,
   "metadata": {
    "collapsed": true
   },
   "outputs": [],
   "source": []
  },
  {
   "cell_type": "code",
   "execution_count": null,
   "metadata": {
    "collapsed": true
   },
   "outputs": [],
   "source": []
  },
  {
   "cell_type": "markdown",
   "metadata": {},
   "source": [
    "___\n",
    "## 5. Qualidade do Classificador alterando a base de treinamento"
   ]
  },
  {
   "cell_type": "code",
   "execution_count": null,
   "metadata": {
    "collapsed": true
   },
   "outputs": [],
   "source": []
  },
  {
   "cell_type": "code",
   "execution_count": null,
   "metadata": {
    "collapsed": true
   },
   "outputs": [],
   "source": []
  },
  {
   "cell_type": "code",
   "execution_count": null,
   "metadata": {
    "collapsed": true
   },
   "outputs": [],
   "source": []
  },
  {
   "cell_type": "code",
   "execution_count": null,
   "metadata": {
    "collapsed": true
   },
   "outputs": [],
   "source": []
  }
 ],
 "metadata": {
  "anaconda-cloud": {},
  "kernelspec": {
   "display_name": "Python 3",
   "language": "python",
   "name": "python3"
  },
  "language_info": {
   "codemirror_mode": {
    "name": "ipython",
    "version": 3
   },
   "file_extension": ".py",
   "mimetype": "text/x-python",
   "name": "python",
   "nbconvert_exporter": "python",
   "pygments_lexer": "ipython3",
   "version": "3.6.1"
  }
 },
 "nbformat": 4,
 "nbformat_minor": 1
}
